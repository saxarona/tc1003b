{
 "cells": [
  {
   "cell_type": "markdown",
   "metadata": {},
   "source": [
    "# Examen"
   ]
  },
  {
   "cell_type": "markdown",
   "metadata": {},
   "source": [
    "La idea de este notebook es utilizarlo para revisar qué opciones distintas tenemos para el examen de módulo 3 de TC1003B: álgebra lineal."
   ]
  },
  {
   "cell_type": "code",
   "execution_count": 1,
   "metadata": {},
   "outputs": [],
   "source": [
    "import numpy as np\n",
    "from scipy import linalg"
   ]
  },
  {
   "cell_type": "markdown",
   "metadata": {},
   "source": [
    "## Figura 1"
   ]
  },
  {
   "cell_type": "markdown",
   "metadata": {},
   "source": [
    "¿Cuántas entradas tiene la red? `4`"
   ]
  },
  {
   "cell_type": "markdown",
   "metadata": {},
   "source": [
    "¿Cuántos pesos tiene la red? `4`"
   ]
  },
  {
   "cell_type": "markdown",
   "metadata": {},
   "source": [
    "¿Cuántas neuronas tiene la red? `1`"
   ]
  },
  {
   "cell_type": "markdown",
   "metadata": {},
   "source": [
    "¿Cuántas funciones de activación tiene la red? `1`"
   ]
  },
  {
   "cell_type": "markdown",
   "metadata": {},
   "source": [
    "¿Cuántas salidas tiene la red? `1`"
   ]
  },
  {
   "cell_type": "markdown",
   "metadata": {},
   "source": [
    "## Figura 2"
   ]
  },
  {
   "cell_type": "markdown",
   "metadata": {},
   "source": [
    "¿Cuántas entradas tiene la red? $R$"
   ]
  },
  {
   "cell_type": "markdown",
   "metadata": {},
   "source": [
    "¿Cuántos pesos tiene la red? $S \\times R$"
   ]
  },
  {
   "cell_type": "markdown",
   "metadata": {},
   "source": [
    "¿Cuántas neuronas tiene la red?  $S$"
   ]
  },
  {
   "cell_type": "markdown",
   "metadata": {},
   "source": [
    "¿Cuántas funciones de activación tiene la red? $S$"
   ]
  },
  {
   "cell_type": "markdown",
   "metadata": {},
   "source": [
    "¿Cuántas salidas tiene la red? $S$"
   ]
  },
  {
   "cell_type": "markdown",
   "metadata": {},
   "source": [
    "## Estructuras de datos"
   ]
  },
  {
   "cell_type": "markdown",
   "metadata": {},
   "source": [
    "Las estructuras de datos deben ser:\n",
    "\n",
    "1. Vector de entradas $\\mathbf{p} = \\begin{bmatrix} p_1 & p_2 & \\dots & p_R\\end{bmatrix}^T$\n",
    "\n",
    "2. Matriz de pesos $W = \\begin{bmatrix}\n",
    "W_{11} & W_{12} & \\dots & W_{1R} \\\\\n",
    "W_{21} & W_{22} & \\dots & W_{2R} \\\\\n",
    "\\vdots & \\ddots & \\ddots& \\vdots \\\\\n",
    "W_{S1} & W_{S2} & \\dots & W_{SR}\n",
    "\\end{bmatrix}$\n",
    "\n",
    "3. Vector de sesgos $\\mathbf{b} = \\begin{bmatrix} b_1 & b_2 & \\dots & b_S\\end{bmatrix}^T$\n",
    "\n",
    "4. Vector de funciones de activación $\\mathbf{f} = \\begin{bmatrix} f_1 & f_2 & \\dots & f_S \\end{bmatrix}^T$\n",
    "5. Vector de salidas $\\mathbf{a} = \\begin{bmatrix} a_1 & a_2 & \\dots & a_S \\end{bmatrix}^T$"
   ]
  },
  {
   "cell_type": "markdown",
   "metadata": {},
   "source": [
    "## SEL"
   ]
  },
  {
   "cell_type": "code",
   "execution_count": 2,
   "metadata": {},
   "outputs": [],
   "source": [
    "P = np.array([[3, 6, -9],\n",
    "              [2, 4, -8],\n",
    "              [-2, -3, 4],\n",
    "              [4, 3, -7],\n",
    "             [5, 4, -9],\n",
    "             [7, 7, -13],\n",
    "             [-2, -5, 9],\n",
    "             [-1, 6, 2]])\n",
    "t = np.array([3, 0, -1, -6, -7, -6, -2, 22])"
   ]
  },
  {
   "cell_type": "code",
   "execution_count": 3,
   "metadata": {},
   "outputs": [],
   "source": [
    "W0 = np.array([[1, 2, 2],\n",
    "               [2, 3, 1],\n",
    "               [4, 2, 2],\n",
    "               [3, 0, 2]])\n",
    "\n",
    "W1 = np.array([[2, 2, 0],\n",
    "               [2, 1, 1],\n",
    "               [3, 2, 2],\n",
    "               [5, 2, 4],\n",
    "               [1, 2, 0]])\n",
    "b0 = np.array([[1], [2], [-1], [1]])\n",
    "b1 = np.array([[-1], [0], [0], [2], [-1]])"
   ]
  },
  {
   "cell_type": "code",
   "execution_count": 8,
   "metadata": {},
   "outputs": [
    {
     "data": {
      "text/plain": [
       "array([[  3,   2,  -2,   4,   5,   7,  -2,  -1],\n",
       "       [  6,   4,  -3,   3,   4,   7,  -5,   6],\n",
       "       [ -9,  -8,   4,  -7,  -9, -13,   9,   2]])"
      ]
     },
     "execution_count": 8,
     "metadata": {},
     "output_type": "execute_result"
    }
   ],
   "source": [
    "P.transpose()"
   ]
  },
  {
   "cell_type": "code",
   "execution_count": 4,
   "metadata": {},
   "outputs": [],
   "source": [
    "def solve_team(A, t, W, b):\n",
    "    print(f\"Solution is {linalg.solve(A,t)}\")\n",
    "    print(f\"a = \\n{np.matmul(W,np.transpose(P)) + b}\")"
   ]
  },
  {
   "cell_type": "code",
   "execution_count": 11,
   "metadata": {},
   "outputs": [
    {
     "data": {
      "text/plain": [
       "array([[ -3,  -6,   0,  -4,  -5,  -5,   6,  15],\n",
       "       [ 15,   8,  -9,  10,  13,  22, -10,  18],\n",
       "       [  6,   0,  -6,   8,  10,  16,   0,  12],\n",
       "       [ -9, -10,   2,  -2,  -3,  -5,  12,   1]])"
      ]
     },
     "execution_count": 11,
     "metadata": {},
     "output_type": "execute_result"
    }
   ],
   "source": [
    "np.matmul(W0,P.transpose())"
   ]
  },
  {
   "cell_type": "code",
   "execution_count": 6,
   "metadata": {},
   "outputs": [
    {
     "name": "stdout",
     "output_type": "stream",
     "text": [
      "Solution is [-2.  3.  1.]\n",
      "a = \n",
      "[[-2 -5  1 -3 -4 -4  7 16]\n",
      " [17 10 -7 12 15 24 -8 20]\n",
      " [ 5 -1 -7  7  9 15 -1 11]\n",
      " [-8 -9  3 -1 -2 -4 13  2]]\n",
      "[-0.88372093  2.97674419  1.62790698]\n",
      "-0.8837209302325582, 2.9767441860465116, 1.627906976744186\n"
     ]
    }
   ],
   "source": [
    "# Equipo 4\n",
    "solve_team(np.vstack((P[3], P[6:8])), np.hstack((t[3], t[6:8])), W0, b0)\n",
    "# they mis-copied so here it is as if they were working with the right numbers\n",
    "A = np.vstack((P[3], np.array([2, -5, 9]), P[7]))\n",
    "b = np.hstack((t[3], t[6], t[7]))\n",
    "print(linalg.solve(A,b))\n",
    "print(f'{-38/43}, {128/43}, {70/43}')"
   ]
  },
  {
   "cell_type": "code",
   "execution_count": 7,
   "metadata": {},
   "outputs": [
    {
     "name": "stdout",
     "output_type": "stream",
     "text": [
      "Solution is [-2.  3.  1.]\n",
      "a = \n",
      "[[ 17  11 -11  13  17  27 -15   9]\n",
      " [  3   0  -3   4   5   8   0   6]\n",
      " [  3  -2  -4   4   5   9   2  13]\n",
      " [ -7 -12   2   0  -1  -1  18  17]\n",
      " [ 14   9  -9   9  12  20 -13  10]]\n"
     ]
    }
   ],
   "source": [
    "# Equipo 7\n",
    "\n",
    "solve_team(P[2:5], t[2:5], W1, b1)"
   ]
  },
  {
   "cell_type": "code",
   "execution_count": 15,
   "metadata": {},
   "outputs": [
    {
     "name": "stdout",
     "output_type": "stream",
     "text": [
      "Solution is [-2.  3.  1.]\n",
      "a = \n",
      "[[ 17  11 -11  13  17  27 -15   9]\n",
      " [  3   0  -3   4   5   8   0   6]\n",
      " [  3  -2  -4   4   5   9   2  13]\n",
      " [ -7 -12   2   0  -1  -1  18  17]\n",
      " [ 14   9  -9   9  12  20 -13  10]]\n"
     ]
    }
   ],
   "source": [
    "# Equipo 1\n",
    "solve_team(np.vstack((P[0], P[1], P[4])), np.hstack((t[0], t[1], t[4])), W1, b1)"
   ]
  },
  {
   "cell_type": "code",
   "execution_count": 17,
   "metadata": {},
   "outputs": [
    {
     "name": "stdout",
     "output_type": "stream",
     "text": [
      "Solution is [-2.  3.  1.]\n",
      "a = \n",
      "[[ 17  11 -11  13  17  27 -15   9]\n",
      " [  3   0  -3   4   5   8   0   6]\n",
      " [  3  -2  -4   4   5   9   2  13]\n",
      " [ -7 -12   2   0  -1  -1  18  17]\n",
      " [ 14   9  -9   9  12  20 -13  10]]\n"
     ]
    }
   ],
   "source": [
    "solve_team(P[0:3],t[0:3], W1, b1)"
   ]
  },
  {
   "cell_type": "code",
   "execution_count": 32,
   "metadata": {},
   "outputs": [
    {
     "data": {
      "text/plain": [
       "array([[ 3,  6, -9,  3],\n",
       "       [ 2,  4, -8,  0],\n",
       "       [-2, -3,  4, -1]])"
      ]
     },
     "execution_count": 32,
     "metadata": {},
     "output_type": "execute_result"
    }
   ],
   "source": [
    "A = P[0:3]\n",
    "A = np.hstack((A, np.array([[3], [0], [-1]])))\n",
    "A"
   ]
  },
  {
   "cell_type": "code",
   "execution_count": 33,
   "metadata": {},
   "outputs": [
    {
     "data": {
      "text/plain": [
       "array([[ 1,  2, -3,  1],\n",
       "       [ 0,  0, -2, -2],\n",
       "       [-2, -3,  4, -1]])"
      ]
     },
     "execution_count": 33,
     "metadata": {},
     "output_type": "execute_result"
    }
   ],
   "source": [
    "A[0] = A[0] /3\n",
    "A[1] = A[1] - 2*A[0]\n",
    "A"
   ]
  },
  {
   "cell_type": "code",
   "execution_count": 34,
   "metadata": {},
   "outputs": [
    {
     "data": {
      "text/plain": [
       "array([[ 1,  2, -3,  1],\n",
       "       [ 0,  0, -2, -2],\n",
       "       [ 0,  1, -2,  1]])"
      ]
     },
     "execution_count": 34,
     "metadata": {},
     "output_type": "execute_result"
    }
   ],
   "source": [
    "A[2] = A[2] + 2 * A[0]\n",
    "A"
   ]
  }
 ],
 "metadata": {
  "kernelspec": {
   "display_name": "Python 3",
   "language": "python",
   "name": "python3"
  },
  "language_info": {
   "codemirror_mode": {
    "name": "ipython",
    "version": 3
   },
   "file_extension": ".py",
   "mimetype": "text/x-python",
   "name": "python",
   "nbconvert_exporter": "python",
   "pygments_lexer": "ipython3",
   "version": "3.7.4"
  }
 },
 "nbformat": 4,
 "nbformat_minor": 2
}
