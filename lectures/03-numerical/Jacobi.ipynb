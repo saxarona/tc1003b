{
 "cells": [
  {
   "cell_type": "markdown",
   "metadata": {},
   "source": [
    "# Jacobi\n",
    "\n",
    "El método **Jacobi** es un método numérico para solución de ecuaciones lineales que funciona de la siguiente forma:\n",
    "\n",
    "Sea $A\\mathbf{x} = \\mathbf{b}$ un sistema de ecuaciones lineales donde\n",
    "\n",
    "$$A =\n",
    "\\begin{bmatrix}\n",
    "    a_{11} & a_{12} & \\dots & a_{1n} \\\\\n",
    "    a_{21} & a_{22} & \\dots & a_{2n} \\\\\n",
    "    \\vdots & \\vdots & \\ddots & \\vdots \\\\\n",
    "    a_{n1} & a_{n2} & \\dots & a_{nn}\n",
    "\\end{bmatrix}, \\quad\n",
    "\\mathbf{x} =\n",
    "\\begin{bmatrix} x_1 \\\\ x_2 \\\\ \\dots \\\\ x_n \\end{bmatrix}, \\quad\n",
    "\\mathbf{b} = \\begin{bmatrix} b_1 \\\\ b_2 \\\\ \\dots \\\\ b_n \\end{bmatrix}\n",
    "$$\n",
    "\n",
    "Podemos descomponer $A$ en un componente diagonal $D$, y el resto $R$ como $A = D + R$, donde\n",
    "\n",
    "$$D = \\begin{bmatrix}\n",
    "    a_{11} & 0 & \\dots & 0 \\\\\n",
    "    0 & a_{22} & \\dots & 0 \\\\\n",
    "    \\vdots & \\vdots & \\ddots & \\vdots \\\\\n",
    "    0 & 0 & \\dots & a_{nn}\n",
    "\\end{bmatrix} \\text{ y }\n",
    "R = \\begin{bmatrix}\n",
    "    0 & a_{12} & \\dots & a_{1n} \\\\\n",
    "    a_{21} & 0 & \\dots & a_{2n} \\\\\n",
    "    \\vdots & \\vdots & \\ddots & \\vdots \\\\\n",
    "    a_{n1} & a_n2 & \\dots & 0\n",
    "\\end{bmatrix}\n",
    "$$\n",
    "\n",
    "La solución iterativa está dada por:\n",
    "\n",
    "$$ x_i^{k+1} = \\frac{1}{a_{ii}}\\left( b_i - \\sum_{j \\neq i} a_{ij} x_j^{(k)} \\right) \\label{2}$$\n",
    "\n",
    "donde $x^{k}$ es la $k$-ésima aproximación de $x$."
   ]
  },
  {
   "cell_type": "markdown",
   "metadata": {},
   "source": [
    "Importamos el módulo `numpy` para cálculo numérico como `np` y ponemos como límite de iteraciones 1000"
   ]
  },
  {
   "cell_type": "code",
   "execution_count": 1,
   "metadata": {},
   "outputs": [],
   "source": [
    "import numpy as np\n",
    "\n",
    "ITER_LIMIT = 1000"
   ]
  },
  {
   "cell_type": "markdown",
   "metadata": {},
   "source": [
    "Dando de alta las matrices"
   ]
  },
  {
   "cell_type": "code",
   "execution_count": 2,
   "metadata": {},
   "outputs": [],
   "source": [
    "# A = np.array([[3, 2, 4],\n",
    "#               [2, 2, 2],\n",
    "#               [4, 4 , 3]])\n",
    "# b = np.array([270, 200, 375])\n",
    "\n",
    "# A = np.array([[1, 1, 2],\n",
    "#               [3, -1, 2],\n",
    "#               [-1, 3, 4]])\n",
    "# b = np.array([8, 0, -4])\n",
    "\n",
    "A = np.array([[10., -1., 2., 0.],\n",
    "              [-1., 11., -1., 3.],\n",
    "              [2., -1., 10., -1.],\n",
    "              [0.0, 3., -1., 8.]])\n",
    "b = np.array([6., 25., -11., 15.])"
   ]
  },
  {
   "cell_type": "markdown",
   "metadata": {},
   "source": [
    "Hagamos una función que nos ayude a imprimir el sistema completo"
   ]
  },
  {
   "cell_type": "code",
   "execution_count": 3,
   "metadata": {},
   "outputs": [],
   "source": [
    "def prettify():\n",
    "    \"\"\"This function prints the linear equation system nicely\"\"\"\n",
    "    for i in range(A.shape[0]):\n",
    "        each_row = [f\"{A[i,j]}*x{j+1}\" for j in range(A.shape[1])]\n",
    "        print(\" + \".join(each_row), \"=\", b[i], \"\\n\")"
   ]
  },
  {
   "cell_type": "markdown",
   "metadata": {},
   "source": [
    "Veamos si funciona"
   ]
  },
  {
   "cell_type": "code",
   "execution_count": 4,
   "metadata": {},
   "outputs": [
    {
     "name": "stdout",
     "output_type": "stream",
     "text": [
      "10.0*x1 + -1.0*x2 + 2.0*x3 + 0.0*x4 = 6.0 \n",
      "\n",
      "-1.0*x1 + 11.0*x2 + -1.0*x3 + 3.0*x4 = 25.0 \n",
      "\n",
      "2.0*x1 + -1.0*x2 + 10.0*x3 + -1.0*x4 = -11.0 \n",
      "\n",
      "0.0*x1 + 3.0*x2 + -1.0*x3 + 8.0*x4 = 15.0 \n",
      "\n"
     ]
    }
   ],
   "source": [
    "prettify()"
   ]
  },
  {
   "cell_type": "code",
   "execution_count": 5,
   "metadata": {},
   "outputs": [
    {
     "name": "stdout",
     "output_type": "stream",
     "text": [
      "Current solution is [0. 0. 0. 0.]\n",
      "Current solution is [ 0.6         2.27272727 -1.1         1.875     ]\n",
      "Current solution is [ 1.04727273  1.71590909 -0.80522727  0.88522727]\n",
      "Current solution is [ 0.93263636  2.05330579 -1.04934091  1.13088068]\n",
      "Current solution is [ 1.01519876  1.95369576 -0.96810863  0.97384272]\n",
      "Current solution is [ 0.9889913   2.01141473 -1.0102859   1.02135051]\n",
      "Current solution is [ 1.00319865  1.99224126 -0.99452174  0.99443374]\n",
      "Current solution is [ 0.99812847  2.00230688 -1.00197223  1.00359431]\n",
      "Current solution is [ 1.00062513  1.9986703  -0.99903558  0.99888839]\n",
      "Current solution is [ 0.99967415  2.00044767 -1.00036916  1.00061919]\n",
      "Current solution is [ 1.0001186   1.99976795 -0.99982814  0.99978598]\n",
      "Current solution is [ 0.99994242  2.00008477 -1.00006833  1.0001085 ]\n",
      "Current solution is [ 1.00002214  1.99995896 -0.99996916  0.99995967]\n",
      "Current solution is [ 0.99998973  2.00001582 -1.00001257  1.00001924]\n",
      "Current solution is [ 1.00000409  1.99999268 -0.99999444  0.9999925 ]\n",
      "Current solution is [ 0.99999816  2.00000292 -1.0000023   1.00000344]\n",
      "Current solution is [ 1.00000075  1.99999868 -0.99999899  0.99999862]\n",
      "Current solution is [ 0.99999967  2.00000054 -1.00000042  1.00000062]\n",
      "Current solution is [ 1.00000014  1.99999976 -0.99999982  0.99999975]\n",
      "Current solution is [ 0.99999994  2.0000001  -1.00000008  1.00000011]\n",
      "Current solution is [ 1.00000003  1.99999996 -0.99999997  0.99999995]\n",
      "Current solution is [ 0.99999999  2.00000002 -1.00000001  1.00000002]\n",
      "Current solution is [ 1.          1.99999999 -0.99999999  0.99999999]\n",
      "Current solution is [ 1.  2. -1.  1.]\n",
      "Current solution is [ 1.  2. -1.  1.]\n",
      "Current solution is [ 1.  2. -1.  1.]\n",
      "Current solution is [ 1.  2. -1.  1.]\n",
      "Current solution is [ 1.  2. -1.  1.]\n",
      "Current solution is [ 1.  2. -1.  1.]\n",
      "Solution:\n",
      " [ 1.  2. -1.  1.]\n",
      "Error was [ 3.95795396e-10 -7.29656335e-10  5.13315612e-10 -5.86034332e-10]\n"
     ]
    }
   ],
   "source": [
    "# Variable vector (x1, x2, ..., xn)\n",
    "\n",
    "def jacobi(A: np.array, b: np.array, N: int) -> np.array:\n",
    "    \"\"\"Solves a LES using the jacobi method\"\"\"\n",
    "    \n",
    "    x = np.zeros_like(b)  # It should be of the same dimensions of b\n",
    "\n",
    "    # El método Jacobi como tal\n",
    "    for it in range(N):\n",
    "        print(f\"Current solution is {x}\")\n",
    "        x_new = np.zeros_like(x)  # We need another vector since we need x and x_new in a single step!\n",
    "\n",
    "        for i in range(A.shape[0]):  # That is, for each row...\n",
    "            s1 = np.dot(A[i, :i], x[:i])\n",
    "            s2 = np.dot(A[i, i+1:], x[i+1:])\n",
    "            x_new[i] = (b[i] - s1 - s2) / A[i, i]  # This is the calculation of each step!\n",
    "\n",
    "        if np.allclose(x, x_new, atol=1e-10, rtol=0.):  # If we have reached convergence...\n",
    "            break  # ...stop looking and exit the loop\n",
    "\n",
    "        x = x_new\n",
    "    \n",
    "    return x\n",
    "\n",
    "x = jacobi(A, b, ITER_LIMIT)\n",
    "print(f\"Solution:\\n {x}\")\n",
    "error = np.dot(A, x) - b\n",
    "print(f\"Error was {error}\")"
   ]
  }
 ],
 "metadata": {
  "kernelspec": {
   "display_name": "Python 3",
   "language": "python",
   "name": "python3"
  },
  "language_info": {
   "codemirror_mode": {
    "name": "ipython",
    "version": 3
   },
   "file_extension": ".py",
   "mimetype": "text/x-python",
   "name": "python",
   "nbconvert_exporter": "python",
   "pygments_lexer": "ipython3",
   "version": "3.7.4"
  }
 },
 "nbformat": 4,
 "nbformat_minor": 2
}
