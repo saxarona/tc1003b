{
 "cells": [
  {
   "cell_type": "markdown",
   "metadata": {},
   "source": [
    "# Gauss-Seidel\n",
    "\n",
    "Gauss-Seidel es otro método _iterativo_ para resolver un sistema de ecuaciones de la forma $A \\mathbf{x} = \\mathbf{b}$:\n",
    "\n",
    "$$A =\n",
    "\\begin{bmatrix}\n",
    "    a_{11} & a_{12} & \\dots & a_{1n} \\\\\n",
    "    a_{21} & a_{22} & \\dots & a_{2n} \\\\\n",
    "    \\vdots & \\vdots & \\ddots & \\vdots \\\\\n",
    "    a_{n1} & a_{n2} & \\dots & a_{nn}\n",
    "\\end{bmatrix}, \\quad\n",
    "\\mathbf{x} =\n",
    "\\begin{bmatrix} x_1 \\\\ x_2 \\\\ \\dots \\\\ x_n \\end{bmatrix}, \\quad\n",
    "\\mathbf{b} = \\begin{bmatrix} b_1 \\\\ b_2 \\\\ \\dots \\\\ b_n \\end{bmatrix}\n",
    "$$\n",
    "\n",
    "En este método, se descompone la matriz de coeficientes $A$ en dos componentes de tal manera que se tiene que $A = L_* + U$ donde\n",
    "\n",
    "$$\n",
    "L_* = \\begin{bmatrix}\n",
    "    a_{11} & 0 & \\dots & 0 \\\\\n",
    "    a_{12} & a_{22} & \\dots & 0 \\\\\n",
    "    \\vdots & \\vdots & \\ddots & \\vdots \\\\\n",
    "    a_{n1} & a_{n2} & \\dots & a_{nn}\n",
    "\\end{bmatrix}, \\quad \\text{ y } \\quad\n",
    "U = \\begin{bmatrix}\n",
    "    0 & a_{12} & \\dots & a_{1n} \\\\\n",
    "    0 & 0 & \\dots & a_{2n} \\\\\n",
    "    \\vdots & \\vdots & \\ddots & \\vdots \\\\\n",
    "    0 & 0 & \\dots & 0\n",
    "\\end{bmatrix}\n",
    "$$\n",
    "\n",
    "El sistema de ecuaciones se puede reescribir como $:L_*\\mathbf{x} = \\mathbf{b} - U\\mathbf{x}$, y se puede resolver _analíticamente_ de la siguiente manera:\n",
    "\n",
    "$$\\mathbf{x}^{(k+1)} = L^{-1}_* (\\mathbf{b} - U\\mathbf{x}^{(k)})$$\n",
    "\n",
    "que después de usar _sustitución hacia adelante_, se puede calcular como:\n",
    "\n",
    "$$\n",
    "x_i^{(k+1)} = \\frac{1}{a{ii}} \\left(  b_i - \\sum_{j=i}^{i-1} a_{ij}x_j^{(k+1)} - \\sum_{j=i+1}^n a_{ij}xj^{(k)} \\right)\n",
    "$$"
   ]
  },
  {
   "cell_type": "markdown",
   "metadata": {},
   "source": [
    "Importamos `numpy` como `np` y ponemos un límite de iteraciones"
   ]
  },
  {
   "cell_type": "code",
   "execution_count": 1,
   "metadata": {},
   "outputs": [],
   "source": [
    "import numpy as np\n",
    "ITER_LIMIT = 1000"
   ]
  },
  {
   "cell_type": "markdown",
   "metadata": {},
   "source": [
    "Damos de alta el sistema"
   ]
  },
  {
   "cell_type": "code",
   "execution_count": 2,
   "metadata": {},
   "outputs": [],
   "source": [
    "# A = np.array([[3, 2, 4],\n",
    "#               [2, 2, 2],\n",
    "#               [4, 4 , 3]])\n",
    "# b = np.array([270, 200, 375])\n",
    "\n",
    "# A = np.array([[1, 1, 2],\n",
    "#               [3, -1, 2],\n",
    "#               [-1, 3, 4]])\n",
    "# b = np.array([8, 0, -4])\n",
    "\n",
    "A = np.array([[10., -1., 2., 0.],\n",
    "              [-1., 11., -1., 3.],\n",
    "              [2., -1., 10., -1.],\n",
    "              [0.0, 3., -1., 8.]])\n",
    "b = np.array([6., 25., -11., 15.])"
   ]
  },
  {
   "cell_type": "markdown",
   "metadata": {},
   "source": [
    "Haremos nuestra función `prettify`:"
   ]
  },
  {
   "cell_type": "code",
   "execution_count": 3,
   "metadata": {},
   "outputs": [],
   "source": [
    "def prettify():\n",
    "    \"\"\"This function prints the linear equation system nicely\"\"\"\n",
    "    for i in range(A.shape[0]):\n",
    "        each_row = [f\"{A[i,j]}*x{j+1}\" for j in range(A.shape[1])]\n",
    "        print(\" + \".join(each_row), \"=\", b[i], \"\\n\")"
   ]
  },
  {
   "cell_type": "markdown",
   "metadata": {},
   "source": [
    "Veamos si funciona..."
   ]
  },
  {
   "cell_type": "code",
   "execution_count": 4,
   "metadata": {},
   "outputs": [
    {
     "name": "stdout",
     "output_type": "stream",
     "text": [
      "10.0*x1 + -1.0*x2 + 2.0*x3 + 0.0*x4 = 6.0 \n",
      "\n",
      "-1.0*x1 + 11.0*x2 + -1.0*x3 + 3.0*x4 = 25.0 \n",
      "\n",
      "2.0*x1 + -1.0*x2 + 10.0*x3 + -1.0*x4 = -11.0 \n",
      "\n",
      "0.0*x1 + 3.0*x2 + -1.0*x3 + 8.0*x4 = 15.0 \n",
      "\n"
     ]
    }
   ],
   "source": [
    "prettify()"
   ]
  },
  {
   "cell_type": "markdown",
   "metadata": {},
   "source": [
    "Good, ahora lo bueno"
   ]
  },
  {
   "cell_type": "code",
   "execution_count": 5,
   "metadata": {},
   "outputs": [
    {
     "name": "stdout",
     "output_type": "stream",
     "text": [
      "Current solution is [0. 0. 0. 0.]\n",
      "Current solution is [0. 0. 0. 0.]\n",
      "Current solution is [0. 0. 0. 0.]\n",
      "Current solution is [0. 0. 0. 0.]\n",
      "Current solution is [ 0.6         2.32727273 -0.98727273  0.87886364]\n",
      "Current solution is [ 0.6         2.32727273 -0.98727273  0.87886364]\n",
      "Current solution is [ 0.6         2.32727273 -0.98727273  0.87886364]\n",
      "Current solution is [ 0.6         2.32727273 -0.98727273  0.87886364]\n",
      "Current solution is [ 1.03018182  2.03693802 -1.0144562   0.98434122]\n",
      "Current solution is [ 1.03018182  2.03693802 -1.0144562   0.98434122]\n",
      "Current solution is [ 1.03018182  2.03693802 -1.0144562   0.98434122]\n",
      "Current solution is [ 1.03018182  2.03693802 -1.0144562   0.98434122]\n",
      "Current solution is [ 1.00658504  2.00355502 -1.00252738  0.99835095]\n",
      "Current solution is [ 1.00658504  2.00355502 -1.00252738  0.99835095]\n",
      "Current solution is [ 1.00658504  2.00355502 -1.00252738  0.99835095]\n",
      "Current solution is [ 1.00658504  2.00355502 -1.00252738  0.99835095]\n",
      "Current solution is [ 1.00086098  2.00029825 -1.00030728  0.99984975]\n",
      "Current solution is [ 1.00086098  2.00029825 -1.00030728  0.99984975]\n",
      "Current solution is [ 1.00086098  2.00029825 -1.00030728  0.99984975]\n",
      "Current solution is [ 1.00086098  2.00029825 -1.00030728  0.99984975]\n",
      "Current solution is [ 1.00009128  2.00002134 -1.00003115  0.9999881 ]\n",
      "Current solution is [ 1.00009128  2.00002134 -1.00003115  0.9999881 ]\n",
      "Current solution is [ 1.00009128  2.00002134 -1.00003115  0.9999881 ]\n",
      "Current solution is [ 1.00009128  2.00002134 -1.00003115  0.9999881 ]\n",
      "Current solution is [ 1.00000836  2.00000117 -1.00000275  0.99999922]\n",
      "Current solution is [ 1.00000836  2.00000117 -1.00000275  0.99999922]\n",
      "Current solution is [ 1.00000836  2.00000117 -1.00000275  0.99999922]\n",
      "Current solution is [ 1.00000836  2.00000117 -1.00000275  0.99999922]\n",
      "Current solution is [ 1.00000067  2.00000002 -1.00000021  0.99999996]\n",
      "Current solution is [ 1.00000067  2.00000002 -1.00000021  0.99999996]\n",
      "Current solution is [ 1.00000067  2.00000002 -1.00000021  0.99999996]\n",
      "Current solution is [ 1.00000067  2.00000002 -1.00000021  0.99999996]\n",
      "Current solution is [ 1.00000004  1.99999999 -1.00000001  1.        ]\n",
      "Current solution is [ 1.00000004  1.99999999 -1.00000001  1.        ]\n",
      "Current solution is [ 1.00000004  1.99999999 -1.00000001  1.        ]\n",
      "Current solution is [ 1.00000004  1.99999999 -1.00000001  1.        ]\n",
      "Current solution is [ 1.  2. -1.  1.]\n",
      "Current solution is [ 1.  2. -1.  1.]\n",
      "Current solution is [ 1.  2. -1.  1.]\n",
      "Current solution is [ 1.  2. -1.  1.]\n",
      "Analytic Solution: [ 1.  2. -1.  1.]\n",
      "Algebraic Solution: [ 1.  2. -1.  1.]\n",
      "Error: [ 2.06480930e-08 -1.25551054e-08  3.61417563e-11  0.00000000e+00]\n"
     ]
    }
   ],
   "source": [
    "x = np.zeros_like(b)  # Setup variable vector\n",
    "for it in range(1, ITER_LIMIT):\n",
    "    x_new = np.zeros_like(x)  # Setup the variable vector for the next iteration\n",
    "\n",
    "    for i in range(A.shape[0]):  # For each row...\n",
    "        print(f\"Current solution is {x}\")\n",
    "        s1 = np.dot(A[i, :i], x_new[:i])\n",
    "        s2 = np.dot(A[i, i+1:], x[i+1:])\n",
    "        x_new[i] = (b[i] - s1 - s2) / A[i, i]\n",
    "    \n",
    "    if np.allclose(x, x_new, rtol=1e-8):  # If the system has converged...\n",
    "        break  # ...then exit the loop!\n",
    "    x = x_new\n",
    "\n",
    "print(f\"Analytic Solution: {x_new}\")\n",
    "print(f\"Algebraic Solution: {x}\")\n",
    "error = np.dot(A, x) - b\n",
    "print(f'Error: {error}')"
   ]
  }
 ],
 "metadata": {
  "kernelspec": {
   "display_name": "Python 3",
   "language": "python",
   "name": "python3"
  },
  "language_info": {
   "codemirror_mode": {
    "name": "ipython",
    "version": 3
   },
   "file_extension": ".py",
   "mimetype": "text/x-python",
   "name": "python",
   "nbconvert_exporter": "python",
   "pygments_lexer": "ipython3",
   "version": "3.7.4"
  }
 },
 "nbformat": 4,
 "nbformat_minor": 2
}
