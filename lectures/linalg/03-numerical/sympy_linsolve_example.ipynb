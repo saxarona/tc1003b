{
 "cells": [
  {
   "cell_type": "markdown",
   "metadata": {},
   "source": [
    "# Sistemas de ecuaciones lineales en Python"
   ]
  },
  {
   "cell_type": "markdown",
   "metadata": {},
   "source": [
    "## Sympy: programación simbólica en Python\n",
    "\n",
    "`sympy` es un módulo de programación simbólica para Python que te permite utilizar variables como símbolos matemáticos y no como datos.\n",
    "\n",
    "### Programación simbólica\n",
    "\n",
    "Al declarar `x=5`, estamos haciendo una asignación&mdash; el valor 5 se está asignando a `x`.\n",
    "\n",
    "Si quisiéramos calcular  `x ** 2`, entonces Python normalmente nos devolvería `25`, pues es el cuadrado de su valor original, `5`.\n",
    "\n",
    "Con programación simbólica, en lugar de pensar en un valor, pensamos en una variable: `x ** 2` es $x^2$, independientemente del valor de `x`. Es hasta que decidimos _evaluar_ el valor de $x^2$ que obtenemos el resultado: `25`.\n",
    "\n",
    "### Ecuaciones lineales con `sympy`\n",
    "\n",
    "`sympy` tiene también algunas herramientas para ecuaciones lineales.\n",
    "Podemos dar de alta un sistema de ecuaciones lineales para intentar resolverlo directamente de la siguiente manera:"
   ]
  },
  {
   "cell_type": "markdown",
   "metadata": {},
   "source": [
    "Del módulo `sympy` importamos específicamente las funciones `symbols` y `linsolve`, y la clase `Matrix`:"
   ]
  },
  {
   "cell_type": "code",
   "execution_count": 2,
   "metadata": {},
   "outputs": [],
   "source": [
    "from sympy import symbols, Matrix, linsolve"
   ]
  },
  {
   "cell_type": "markdown",
   "metadata": {},
   "source": [
    "Damos de alta el sistema con una matriz de coeficientes y un vector de constantes"
   ]
  },
  {
   "cell_type": "code",
   "execution_count": 2,
   "metadata": {},
   "outputs": [],
   "source": [
    "x, y, z = symbols('x, y, z')\n",
    "A = Matrix([[3, 2, 4], [2, 2, 2], [4, 4, 3]])\n",
    "b = Matrix([[270], [200], [375]])"
   ]
  },
  {
   "cell_type": "markdown",
   "metadata": {},
   "source": [
    "Y revisamos el valor de $A$ y $\\mathbf{b}$"
   ]
  },
  {
   "cell_type": "code",
   "execution_count": 3,
   "metadata": {},
   "outputs": [
    {
     "data": {
      "text/latex": [
       "$\\displaystyle \\left[\\begin{matrix}3 & 2 & 4\\\\2 & 2 & 2\\\\4 & 4 & 3\\end{matrix}\\right]$"
      ],
      "text/plain": [
       "Matrix([\n",
       "[3, 2, 4],\n",
       "[2, 2, 2],\n",
       "[4, 4, 3]])"
      ]
     },
     "execution_count": 3,
     "metadata": {},
     "output_type": "execute_result"
    }
   ],
   "source": [
    "A"
   ]
  },
  {
   "cell_type": "code",
   "execution_count": 4,
   "metadata": {},
   "outputs": [
    {
     "data": {
      "text/latex": [
       "$\\displaystyle \\left[\\begin{matrix}270\\\\200\\\\375\\end{matrix}\\right]$"
      ],
      "text/plain": [
       "Matrix([\n",
       "[270],\n",
       "[200],\n",
       "[375]])"
      ]
     },
     "execution_count": 4,
     "metadata": {},
     "output_type": "execute_result"
    }
   ],
   "source": [
    "b"
   ]
  },
  {
   "cell_type": "markdown",
   "metadata": {},
   "source": [
    "Para terminar, resolvemos el sistema usando `linsolve`"
   ]
  },
  {
   "cell_type": "code",
   "execution_count": 6,
   "metadata": {},
   "outputs": [
    {
     "data": {
      "text/latex": [
       "$\\displaystyle \\left\\{\\left( 20, \\  55, \\  25\\right)\\right\\}$"
      ],
      "text/plain": [
       "{(20, 55, 25)}"
      ]
     },
     "execution_count": 6,
     "metadata": {},
     "output_type": "execute_result"
    }
   ],
   "source": [
    "linsolve((A,b),[x, y, z])"
   ]
  },
  {
   "cell_type": "markdown",
   "metadata": {},
   "source": [
    "que nos devuelve un conjunto de las posibles soluciones. En este caso, sólo hay una posible solución, que es $(20, 55, 25)$, que es una *tupla*: un grupo de datos de tamaño fijo donde el orden importa. En este caso, $x_1 = 20, \\; x_2 = 55 \\;$ y $x_3 = 25$"
   ]
  },
  {
   "cell_type": "markdown",
   "metadata": {},
   "source": [
    "## Scipy: librería científica para Python\n",
    "\n",
    "`scipy` es un módulo de Python que contiene herramientas para *ciencia*: pruebas estadísticas, análisis de señales, álgebra lineal, optimización e integración.\n",
    "\n",
    "Este módulo va de la mano con `numpy`, que es otro módulo que utilizamos comúnmente para cálculo numérico."
   ]
  },
  {
   "cell_type": "markdown",
   "metadata": {},
   "source": [
    "Importamos `numpy` como `np` y de `scipy` importamos el módulo de álgebra lineal"
   ]
  },
  {
   "cell_type": "code",
   "execution_count": 3,
   "metadata": {},
   "outputs": [],
   "source": [
    "import numpy as np\n",
    "from scipy import linalg"
   ]
  },
  {
   "cell_type": "markdown",
   "metadata": {},
   "source": [
    "Damos de alta el sistema usando arreglos de `numpy`, tanto para la matriz de coeficientes como para el vector de constantes"
   ]
  },
  {
   "cell_type": "code",
   "execution_count": 8,
   "metadata": {},
   "outputs": [],
   "source": [
    "A = np.array([[3, 2, 4], [2, 2, 2], [4, 4, 3]])\n",
    "b = np.array([270, 200, 375])"
   ]
  },
  {
   "cell_type": "markdown",
   "metadata": {},
   "source": [
    "Revisamos que esté todo en orden"
   ]
  },
  {
   "cell_type": "code",
   "execution_count": 9,
   "metadata": {},
   "outputs": [
    {
     "data": {
      "text/plain": [
       "array([[3, 2, 4],\n",
       "       [2, 2, 2],\n",
       "       [4, 4, 3]])"
      ]
     },
     "execution_count": 9,
     "metadata": {},
     "output_type": "execute_result"
    }
   ],
   "source": [
    "A"
   ]
  },
  {
   "cell_type": "code",
   "execution_count": 10,
   "metadata": {},
   "outputs": [
    {
     "data": {
      "text/plain": [
       "array([270, 200, 375])"
      ]
     },
     "execution_count": 10,
     "metadata": {},
     "output_type": "execute_result"
    }
   ],
   "source": [
    "b"
   ]
  },
  {
   "cell_type": "markdown",
   "metadata": {},
   "source": [
    "y usamos la función `solve` del módulo `linalg` para resolver el sistema"
   ]
  },
  {
   "cell_type": "code",
   "execution_count": 7,
   "metadata": {},
   "outputs": [
    {
     "data": {
      "text/plain": [
       "array([20., 55., 25.])"
      ]
     },
     "execution_count": 7,
     "metadata": {},
     "output_type": "execute_result"
    }
   ],
   "source": [
    "linalg.solve(A, b)"
   ]
  },
  {
   "cell_type": "markdown",
   "metadata": {},
   "source": [
    "la función `solve` regresa un arreglo de las soluciones (donde el orden importa): $x_1 = 20, \\; x_2 = 55 \\,$ y $x_3 = 25$"
   ]
  }
 ],
 "metadata": {
  "kernelspec": {
   "display_name": "Python 3",
   "language": "python",
   "name": "python3"
  },
  "language_info": {
   "codemirror_mode": {
    "name": "ipython",
    "version": 3
   },
   "file_extension": ".py",
   "mimetype": "text/x-python",
   "name": "python",
   "nbconvert_exporter": "python",
   "pygments_lexer": "ipython3",
   "version": "3.7.4"
  }
 },
 "nbformat": 4,
 "nbformat_minor": 2
}
